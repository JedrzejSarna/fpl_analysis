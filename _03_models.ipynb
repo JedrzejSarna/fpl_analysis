{
 "cells": [
  {
   "cell_type": "code",
   "execution_count": 13,
   "metadata": {},
   "outputs": [],
   "source": [
    "from _01_datasets import *\n",
    "from _02_plots import *\n",
    "\n",
    "from sklearn.linear_model import LinearRegression\n",
    "from sklearn.model_selection import train_test_split"
   ]
  },
  {
   "cell_type": "code",
   "execution_count": 2,
   "metadata": {},
   "outputs": [],
   "source": [
    "datasets = DATASETS()\n",
    "plots = PLOTS()"
   ]
  },
  {
   "cell_type": "code",
   "execution_count": 3,
   "metadata": {},
   "outputs": [],
   "source": [
    "datasets.build_players_dataset()\n",
    "datasets.build_teams_dataset()\n",
    "datasets.build_gameweeks_dataset()\n",
    "datasets.build_positions_dataset()"
   ]
  },
  {
   "cell_type": "code",
   "execution_count": 4,
   "metadata": {},
   "outputs": [],
   "source": [
    "datasets.transform_players_dataset()"
   ]
  },
  {
   "cell_type": "code",
   "execution_count": 5,
   "metadata": {},
   "outputs": [],
   "source": [
    "datasets.players_dataset = datasets.players_dataset[datasets.players_dataset['total_points']>0]\n",
    "model_df = datasets.players_dataset[['price', 'selected_by_percent', 'total_points', 'influence', 'creativity',\n",
    "                                     'threat', 'expected_goals', 'expected_assists', 'expected_goals_conceded', 'team_name','position_name']]"
   ]
  },
  {
   "cell_type": "code",
   "execution_count": 6,
   "metadata": {},
   "outputs": [
    {
     "data": {
      "text/html": [
       "<div>\n",
       "<style scoped>\n",
       "    .dataframe tbody tr th:only-of-type {\n",
       "        vertical-align: middle;\n",
       "    }\n",
       "\n",
       "    .dataframe tbody tr th {\n",
       "        vertical-align: top;\n",
       "    }\n",
       "\n",
       "    .dataframe thead th {\n",
       "        text-align: right;\n",
       "    }\n",
       "</style>\n",
       "<table border=\"1\" class=\"dataframe\">\n",
       "  <thead>\n",
       "    <tr style=\"text-align: right;\">\n",
       "      <th></th>\n",
       "      <th>price</th>\n",
       "      <th>selected_by_percent</th>\n",
       "      <th>total_points</th>\n",
       "      <th>influence</th>\n",
       "      <th>creativity</th>\n",
       "      <th>threat</th>\n",
       "      <th>expected_goals</th>\n",
       "      <th>expected_assists</th>\n",
       "      <th>expected_goals_conceded</th>\n",
       "      <th>team_name</th>\n",
       "      <th>position_name</th>\n",
       "    </tr>\n",
       "  </thead>\n",
       "  <tbody>\n",
       "    <tr>\n",
       "      <th>1</th>\n",
       "      <td>78</td>\n",
       "      <td>2.2</td>\n",
       "      <td>20</td>\n",
       "      <td>72.4</td>\n",
       "      <td>60.8</td>\n",
       "      <td>191.0</td>\n",
       "      <td>2.22</td>\n",
       "      <td>0.31</td>\n",
       "      <td>4.83</td>\n",
       "      <td>Arsenal</td>\n",
       "      <td>Forward</td>\n",
       "    </tr>\n",
       "    <tr>\n",
       "      <th>2</th>\n",
       "      <td>57</td>\n",
       "      <td>10.2</td>\n",
       "      <td>51</td>\n",
       "      <td>182.4</td>\n",
       "      <td>94.3</td>\n",
       "      <td>289.0</td>\n",
       "      <td>3.18</td>\n",
       "      <td>0.31</td>\n",
       "      <td>6.14</td>\n",
       "      <td>Arsenal</td>\n",
       "      <td>Forward</td>\n",
       "    </tr>\n",
       "    <tr>\n",
       "      <th>4</th>\n",
       "      <td>50</td>\n",
       "      <td>0.2</td>\n",
       "      <td>15</td>\n",
       "      <td>72.6</td>\n",
       "      <td>14.2</td>\n",
       "      <td>55.0</td>\n",
       "      <td>0.73</td>\n",
       "      <td>0.01</td>\n",
       "      <td>1.12</td>\n",
       "      <td>Aston Villa</td>\n",
       "      <td>Forward</td>\n",
       "    </tr>\n",
       "    <tr>\n",
       "      <th>5</th>\n",
       "      <td>85</td>\n",
       "      <td>43.6</td>\n",
       "      <td>80</td>\n",
       "      <td>348.4</td>\n",
       "      <td>240.3</td>\n",
       "      <td>515.0</td>\n",
       "      <td>6.89</td>\n",
       "      <td>1.55</td>\n",
       "      <td>15.02</td>\n",
       "      <td>Aston Villa</td>\n",
       "      <td>Forward</td>\n",
       "    </tr>\n",
       "    <tr>\n",
       "      <th>7</th>\n",
       "      <td>47</td>\n",
       "      <td>0.2</td>\n",
       "      <td>5</td>\n",
       "      <td>3.0</td>\n",
       "      <td>17.2</td>\n",
       "      <td>45.0</td>\n",
       "      <td>0.47</td>\n",
       "      <td>0.31</td>\n",
       "      <td>1.69</td>\n",
       "      <td>Bournemouth</td>\n",
       "      <td>Forward</td>\n",
       "    </tr>\n",
       "    <tr>\n",
       "      <th>...</th>\n",
       "      <td>...</td>\n",
       "      <td>...</td>\n",
       "      <td>...</td>\n",
       "      <td>...</td>\n",
       "      <td>...</td>\n",
       "      <td>...</td>\n",
       "      <td>...</td>\n",
       "      <td>...</td>\n",
       "      <td>...</td>\n",
       "      <td>...</td>\n",
       "      <td>...</td>\n",
       "    </tr>\n",
       "    <tr>\n",
       "      <th>730</th>\n",
       "      <td>45</td>\n",
       "      <td>0.1</td>\n",
       "      <td>10</td>\n",
       "      <td>77.6</td>\n",
       "      <td>10.0</td>\n",
       "      <td>0.0</td>\n",
       "      <td>0.00</td>\n",
       "      <td>0.01</td>\n",
       "      <td>4.26</td>\n",
       "      <td>Nott'm Forest</td>\n",
       "      <td>Goalkeeper</td>\n",
       "    </tr>\n",
       "    <tr>\n",
       "      <th>733</th>\n",
       "      <td>45</td>\n",
       "      <td>0.3</td>\n",
       "      <td>29</td>\n",
       "      <td>446.4</td>\n",
       "      <td>0.0</td>\n",
       "      <td>0.0</td>\n",
       "      <td>0.00</td>\n",
       "      <td>0.00</td>\n",
       "      <td>28.98</td>\n",
       "      <td>Sheffield Utd</td>\n",
       "      <td>Goalkeeper</td>\n",
       "    </tr>\n",
       "    <tr>\n",
       "      <th>737</th>\n",
       "      <td>52</td>\n",
       "      <td>8.1</td>\n",
       "      <td>47</td>\n",
       "      <td>332.4</td>\n",
       "      <td>0.0</td>\n",
       "      <td>0.0</td>\n",
       "      <td>0.00</td>\n",
       "      <td>0.00</td>\n",
       "      <td>18.71</td>\n",
       "      <td>Spurs</td>\n",
       "      <td>Goalkeeper</td>\n",
       "    </tr>\n",
       "    <tr>\n",
       "      <th>739</th>\n",
       "      <td>43</td>\n",
       "      <td>37.8</td>\n",
       "      <td>43</td>\n",
       "      <td>369.0</td>\n",
       "      <td>0.0</td>\n",
       "      <td>0.0</td>\n",
       "      <td>0.00</td>\n",
       "      <td>0.00</td>\n",
       "      <td>23.67</td>\n",
       "      <td>West Ham</td>\n",
       "      <td>Goalkeeper</td>\n",
       "    </tr>\n",
       "    <tr>\n",
       "      <th>744</th>\n",
       "      <td>50</td>\n",
       "      <td>1.6</td>\n",
       "      <td>36</td>\n",
       "      <td>314.8</td>\n",
       "      <td>0.0</td>\n",
       "      <td>0.0</td>\n",
       "      <td>0.00</td>\n",
       "      <td>0.00</td>\n",
       "      <td>18.84</td>\n",
       "      <td>Wolves</td>\n",
       "      <td>Goalkeeper</td>\n",
       "    </tr>\n",
       "  </tbody>\n",
       "</table>\n",
       "<p>469 rows × 11 columns</p>\n",
       "</div>"
      ],
      "text/plain": [
       "     price selected_by_percent  total_points influence creativity threat  \\\n",
       "1       78                 2.2            20      72.4       60.8  191.0   \n",
       "2       57                10.2            51     182.4       94.3  289.0   \n",
       "4       50                 0.2            15      72.6       14.2   55.0   \n",
       "5       85                43.6            80     348.4      240.3  515.0   \n",
       "7       47                 0.2             5       3.0       17.2   45.0   \n",
       "..     ...                 ...           ...       ...        ...    ...   \n",
       "730     45                 0.1            10      77.6       10.0    0.0   \n",
       "733     45                 0.3            29     446.4        0.0    0.0   \n",
       "737     52                 8.1            47     332.4        0.0    0.0   \n",
       "739     43                37.8            43     369.0        0.0    0.0   \n",
       "744     50                 1.6            36     314.8        0.0    0.0   \n",
       "\n",
       "    expected_goals expected_assists expected_goals_conceded      team_name  \\\n",
       "1             2.22             0.31                    4.83        Arsenal   \n",
       "2             3.18             0.31                    6.14        Arsenal   \n",
       "4             0.73             0.01                    1.12    Aston Villa   \n",
       "5             6.89             1.55                   15.02    Aston Villa   \n",
       "7             0.47             0.31                    1.69    Bournemouth   \n",
       "..             ...              ...                     ...            ...   \n",
       "730           0.00             0.01                    4.26  Nott'm Forest   \n",
       "733           0.00             0.00                   28.98  Sheffield Utd   \n",
       "737           0.00             0.00                   18.71          Spurs   \n",
       "739           0.00             0.00                   23.67       West Ham   \n",
       "744           0.00             0.00                   18.84         Wolves   \n",
       "\n",
       "    position_name  \n",
       "1         Forward  \n",
       "2         Forward  \n",
       "4         Forward  \n",
       "5         Forward  \n",
       "7         Forward  \n",
       "..            ...  \n",
       "730    Goalkeeper  \n",
       "733    Goalkeeper  \n",
       "737    Goalkeeper  \n",
       "739    Goalkeeper  \n",
       "744    Goalkeeper  \n",
       "\n",
       "[469 rows x 11 columns]"
      ]
     },
     "execution_count": 6,
     "metadata": {},
     "output_type": "execute_result"
    }
   ],
   "source": [
    "model_df"
   ]
  },
  {
   "cell_type": "code",
   "execution_count": 7,
   "metadata": {},
   "outputs": [],
   "source": [
    "dummies_1 = pd.get_dummies(model_df['team_name'])\n",
    "dummies_2 = pd.get_dummies(model_df['position_name'])\n",
    "\n",
    "step_1 = pd.concat([model_df, dummies_1, dummies_2], axis=1)      \n",
    "step_1.drop(['team_name', 'position_name'], inplace=True, axis=1)\n",
    "model_df_transformed = step_1.replace({True: 1, False: 0})\n",
    "\n",
    "y = model_df_transformed['total_points']\n",
    "x = model_df_transformed.drop('total_points', axis=1)"
   ]
  },
  {
   "cell_type": "code",
   "execution_count": 8,
   "metadata": {},
   "outputs": [
    {
     "name": "stdout",
     "output_type": "stream",
     "text": [
      "R^2: 0.8988277065512735\n",
      "intercept: 311287575791.35876\n",
      "slope: [-5.80954298e-02  3.24286373e-01  1.05029802e-01  2.55167504e-02\n",
      "  4.25115746e-02 -2.93765052e-01  6.04147742e-01  2.28463802e-02\n",
      " -4.66367580e+10 -4.66367580e+10 -4.66367580e+10 -4.66367580e+10\n",
      " -4.66367580e+10 -4.66367580e+10 -4.66367580e+10 -4.66367580e+10\n",
      " -4.66367580e+10 -4.66367580e+10 -4.66367580e+10 -4.66367580e+10\n",
      " -4.66367580e+10 -4.66367580e+10 -4.66367580e+10 -4.66367580e+10\n",
      " -4.66367580e+10 -4.66367580e+10 -4.66367580e+10 -4.66367580e+10\n",
      " -2.64650818e+11 -2.64650818e+11 -2.64650818e+11 -2.64650818e+11]\n"
     ]
    }
   ],
   "source": [
    "model = LinearRegression().fit(x,y)\n",
    "\n",
    "r_sq = model.score(x, y)\n",
    "print(f\"R^2: {r_sq}\")\n",
    "\n",
    "print(f\"intercept: {model.intercept_}\")\n",
    "print(f\"slope: {model.coef_}\")"
   ]
  },
  {
   "cell_type": "code",
   "execution_count": 9,
   "metadata": {},
   "outputs": [],
   "source": [
    "model_df_simpler = datasets.players_dataset[['price', 'selected_by_percent', 'total_points', 'influence', 'creativity',\n",
    "                                     'threat', 'expected_goals', 'expected_assists', 'expected_goals_conceded']]\n",
    "\n",
    "y1 = model_df_simpler['total_points']\n",
    "x1 = model_df_simpler.drop('total_points', axis=1)"
   ]
  },
  {
   "cell_type": "code",
   "execution_count": 11,
   "metadata": {},
   "outputs": [
    {
     "name": "stdout",
     "output_type": "stream",
     "text": [
      "R^2: 0.883643781473306\n",
      "intercept: 1.8345322161999817\n",
      "coefficients: [ 0.03069099  0.29436623  0.11211082  0.03252075  0.04596335 -0.37555755\n",
      " -0.33749241 -0.19848767]\n"
     ]
    }
   ],
   "source": [
    "model1 = LinearRegression().fit(x1,y1)\n",
    "\n",
    "r_sq = model1.score(x1, y1)\n",
    "print(f\"R^2: {r_sq}\")\n",
    "\n",
    "print(f\"intercept: {model1.intercept_}\")\n",
    "print(f\"coefficients: {model1.coef_}\")"
   ]
  },
  {
   "cell_type": "code",
   "execution_count": 14,
   "metadata": {},
   "outputs": [],
   "source": [
    "x_train,x_test,y_train,y_test=train_test_split(x1,y1,test_size=0.2)"
   ]
  },
  {
   "cell_type": "code",
   "execution_count": 17,
   "metadata": {},
   "outputs": [
    {
     "name": "stdout",
     "output_type": "stream",
     "text": [
      "R^2: 0.8931094856313018\n",
      "intercept: 0.2975695713167319\n",
      "slope: [ 0.06070542  0.25213375  0.11119901  0.02894262  0.04155313 -0.12473596\n",
      " -0.15190228 -0.14424763]\n"
     ]
    }
   ],
   "source": [
    "model_train = LinearRegression().fit(x_train,y_train)\n",
    "\n",
    "r_sq = model_train.score(x_train, y_train)\n",
    "print(f\"R^2: {r_sq}\")\n",
    "\n",
    "print(f\"intercept: {model_train.intercept_}\")\n",
    "print(f\"slope: {model_train.coef_}\")"
   ]
  },
  {
   "cell_type": "code",
   "execution_count": 20,
   "metadata": {},
   "outputs": [
    {
     "data": {
      "text/plain": [
       "array([13.06815364, 15.9710783 ,  7.77493315, 33.75008525,  4.06766124,\n",
       "       30.54404663,  3.04589988,  3.50047132, 32.37523282,  5.01000052,\n",
       "       15.80442333,  6.94834663,  3.15548073, 18.08852014, 30.98190278,\n",
       "        6.38558321, 17.22906569,  2.99783563, 32.86956604, 31.79924038,\n",
       "       11.82572537, 12.4681883 , 15.53511161,  4.57988901, 12.17868414,\n",
       "       29.33605548, 42.19105032, 12.19846765, 26.94932154, 17.76766362,\n",
       "       33.02270719, 39.76021296, 20.76157777,  6.82458105,  4.04459561,\n",
       "        6.65745762, 27.81128947, 17.74313435, 44.49781265, 22.31373426,\n",
       "       49.26389165, 28.73052326, 27.82605996, 29.75228256, 11.34633717,\n",
       "       59.24595782,  3.34100337,  5.30782979, 11.00912873, 44.57931206,\n",
       "       26.37873285, 39.2179303 , 39.27211186, 20.12065023, 26.95672554,\n",
       "       46.75206992, 42.49883682, 17.09492133, 20.31916283, 55.74666299,\n",
       "       11.3569824 , 19.85601929, 42.24132524, 39.6525733 , 28.41021791,\n",
       "       19.80949051,  6.45546175,  8.46955198, 16.79636483, 47.94365632,\n",
       "       23.12421936,  2.85335925, 15.67171205,  4.14564482, 10.89416525,\n",
       "       19.25906882, 18.01063069, 25.86997473, 35.65378582, 27.74566569,\n",
       "        3.29155718, 42.27069906, 17.04536233,  4.41868328,  4.5547551 ,\n",
       "       28.8245821 ,  9.36828214, 34.29330164, 55.39140571,  7.70426457,\n",
       "       48.56389589, 20.58287626,  9.25293473, 28.27454677])"
      ]
     },
     "execution_count": 20,
     "metadata": {},
     "output_type": "execute_result"
    }
   ],
   "source": [
    "model_train.predict(x_test)"
   ]
  },
  {
   "cell_type": "code",
   "execution_count": 25,
   "metadata": {},
   "outputs": [],
   "source": [
    "y_pred = [round(num) for num in model_train.predict(x_test)]\n"
   ]
  }
 ],
 "metadata": {
  "kernelspec": {
   "display_name": "base",
   "language": "python",
   "name": "python3"
  },
  "language_info": {
   "codemirror_mode": {
    "name": "ipython",
    "version": 3
   },
   "file_extension": ".py",
   "mimetype": "text/x-python",
   "name": "python",
   "nbconvert_exporter": "python",
   "pygments_lexer": "ipython3",
   "version": "3.11.5"
  }
 },
 "nbformat": 4,
 "nbformat_minor": 2
}
